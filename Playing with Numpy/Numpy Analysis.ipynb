{
 "cells": [
  {
   "cell_type": "markdown",
   "id": "19e7206b",
   "metadata": {},
   "source": [
    "#  Numpy"
   ]
  },
  {
   "cell_type": "markdown",
   "id": "4de3df91",
   "metadata": {},
   "source": [
    "### Lists vs Numpy"
   ]
  },
  {
   "cell_type": "markdown",
   "id": "1cda8d33",
   "metadata": {},
   "source": [
    "Numpy is a multi-dimensional array library. We can store data in 1-D arrays, 2-D arrays, 3-D arrays....\n",
    "The main advantage about Numpy over List is:  \n",
    "(i) Numpy is very faster then List because it deals with less bytes of memory.  \n",
    "(ii) No type checking when iterating through objects.  \n",
    "(iii) Numpy utilises contigous memory(you would have to mention the tsrat location,the toal size and type of memory block).RThe advantage is we can use the Simd vector processing unit and effective utilisatutilization of the cache memory.  \n"
   ]
  },
  {
   "cell_type": "markdown",
   "id": "4c51418a",
   "metadata": {},
   "source": [
    "#### Storing Difference"
   ]
  },
  {
   "cell_type": "markdown",
   "id": "8e3def77",
   "metadata": {},
   "source": [
    "5 in computers is reprented as 00000101  \n",
    "Using Numpy we would use Int32 format by default to store a number:  \n",
    "00000000 00000000 00000000 00000101\n",
    "\n",
    "To represnt 5 we dont really need to use 4 Bytes of data.We can use just 2 Bytes or even better 1 Byte.  \n",
    "We need to specify that as Int16: \n",
    "00000000 00000101  \n",
    "We need to specify that as Int8: \n",
    "00000101\n",
    "\n",
    "Lists make use of the by default built-in int data-type which has 4 things: (i) size (ii) Reference Count (iii) Object Type (iv) Object Value \n",
    "\n",
    "size --> the size of integer value\n",
    "Reference Count --> the number of times the integer is specifically being pointed to\n",
    "Object Type --> the type\n",
    "Object Value --> bits associated with it\n",
    "\n",
    "size (4 Bytes)\n",
    "Reference Count (8 Bytes)\n",
    "Object Type  (8 Bytes)\n",
    "Object Value (8 Bytes)"
   ]
  },
  {
   "cell_type": "markdown",
   "id": "6323c04d",
   "metadata": {},
   "source": [
    "### Applications of Numpy"
   ]
  },
  {
   "cell_type": "markdown",
   "id": "4dd62def",
   "metadata": {},
   "source": [
    "1) Mathematics(MATLAB Replacement)  \n",
    "2) Plotting  \n",
    "3) Backend  \n",
    "4) Machine Learning  "
   ]
  },
  {
   "cell_type": "markdown",
   "id": "a4accfc2",
   "metadata": {},
   "source": [
    "## Load Necessary Libraries"
   ]
  },
  {
   "cell_type": "code",
   "execution_count": 1,
   "id": "9f84d23d",
   "metadata": {},
   "outputs": [],
   "source": [
    "import numpy as np"
   ]
  },
  {
   "cell_type": "markdown",
   "id": "7583c687",
   "metadata": {},
   "source": [
    "### Basics"
   ]
  },
  {
   "cell_type": "code",
   "execution_count": 2,
   "id": "c7cc6d92",
   "metadata": {},
   "outputs": [
    {
     "name": "stdout",
     "output_type": "stream",
     "text": [
      "[1 2 3]\n"
     ]
    }
   ],
   "source": [
    "# How to initialize an array (by default int32)\n",
    "a =np.array([1,2,3])\n",
    "print(a)"
   ]
  },
  {
   "cell_type": "code",
   "execution_count": 3,
   "id": "0bf4963b",
   "metadata": {},
   "outputs": [
    {
     "name": "stdout",
     "output_type": "stream",
     "text": [
      "[1 2 3]\n"
     ]
    }
   ],
   "source": [
    "# How to initialize an array (setting default as I want as int16)\n",
    "r =np.array([1,2,3],dtype='int16')\n",
    "print(r)"
   ]
  },
  {
   "cell_type": "code",
   "execution_count": 4,
   "id": "b4547720",
   "metadata": {},
   "outputs": [
    {
     "name": "stdout",
     "output_type": "stream",
     "text": [
      "[[9. 8. 7.]\n",
      " [6. 5. 4.]]\n"
     ]
    }
   ],
   "source": [
    "b=np.array([[9.0,8.0,7.0],[6.0,5.0,4.0]])\n",
    "print(b)"
   ]
  },
  {
   "cell_type": "markdown",
   "id": "b19eacef",
   "metadata": {},
   "source": [
    "Dimension = 1D,2D..  \n",
    "\n",
    "Shape in case of 1D will return the no of elements..  \n",
    "Shape= [#rows,#columns] in case of > 1D array"
   ]
  },
  {
   "cell_type": "code",
   "execution_count": 5,
   "id": "ada803b7",
   "metadata": {},
   "outputs": [
    {
     "data": {
      "text/plain": [
       "1"
      ]
     },
     "execution_count": 5,
     "metadata": {},
     "output_type": "execute_result"
    }
   ],
   "source": [
    "##Get dimension of numpy array a\n",
    "a.ndim"
   ]
  },
  {
   "cell_type": "code",
   "execution_count": 6,
   "id": "7879d3f4",
   "metadata": {},
   "outputs": [
    {
     "data": {
      "text/plain": [
       "2"
      ]
     },
     "execution_count": 6,
     "metadata": {},
     "output_type": "execute_result"
    }
   ],
   "source": [
    "#Get dimension of numpy array b\n",
    "b.ndim"
   ]
  },
  {
   "cell_type": "code",
   "execution_count": 7,
   "id": "d05204bf",
   "metadata": {},
   "outputs": [
    {
     "data": {
      "text/plain": [
       "(3,)"
      ]
     },
     "execution_count": 7,
     "metadata": {},
     "output_type": "execute_result"
    }
   ],
   "source": [
    "#Get Shape of numpy array a\n",
    "a.shape"
   ]
  },
  {
   "cell_type": "code",
   "execution_count": 8,
   "id": "743049a7",
   "metadata": {},
   "outputs": [
    {
     "data": {
      "text/plain": [
       "(2, 3)"
      ]
     },
     "execution_count": 8,
     "metadata": {},
     "output_type": "execute_result"
    }
   ],
   "source": [
    "#Get Shape of numpy array b\n",
    "b.shape"
   ]
  },
  {
   "cell_type": "code",
   "execution_count": 9,
   "id": "4883805d",
   "metadata": {},
   "outputs": [
    {
     "data": {
      "text/plain": [
       "dtype('int32')"
      ]
     },
     "execution_count": 9,
     "metadata": {},
     "output_type": "execute_result"
    }
   ],
   "source": [
    "# Get the Type of numpy array a\n",
    "a.dtype"
   ]
  },
  {
   "cell_type": "code",
   "execution_count": 10,
   "id": "150af09c",
   "metadata": {},
   "outputs": [
    {
     "data": {
      "text/plain": [
       "dtype('int16')"
      ]
     },
     "execution_count": 10,
     "metadata": {},
     "output_type": "execute_result"
    }
   ],
   "source": [
    "# Get the Type of numpy array r\n",
    "r.dtype"
   ]
  },
  {
   "cell_type": "code",
   "execution_count": 11,
   "id": "3946f36a",
   "metadata": {},
   "outputs": [
    {
     "data": {
      "text/plain": [
       "4"
      ]
     },
     "execution_count": 11,
     "metadata": {},
     "output_type": "execute_result"
    }
   ],
   "source": [
    "# Get the Size of numpy array a\n",
    "a.itemsize"
   ]
  },
  {
   "cell_type": "markdown",
   "id": "90012110",
   "metadata": {},
   "source": [
    "ndim = 1D,2D..  \n",
    "dtype = datatype(int32,int16..)  \n",
    "shape= row,column >1D  for less than 1D ---> no of elements  \n",
    "itemsize = how much space each element occupies  \n",
    "size= how many elements are there  "
   ]
  },
  {
   "cell_type": "code",
   "execution_count": 12,
   "id": "5214da6b",
   "metadata": {},
   "outputs": [
    {
     "data": {
      "text/plain": [
       "2"
      ]
     },
     "execution_count": 12,
     "metadata": {},
     "output_type": "execute_result"
    }
   ],
   "source": [
    "# Get the Size of numpy array r\n",
    "r.itemsize"
   ]
  },
  {
   "cell_type": "code",
   "execution_count": 13,
   "id": "ad070a00",
   "metadata": {},
   "outputs": [
    {
     "data": {
      "text/plain": [
       "12"
      ]
     },
     "execution_count": 13,
     "metadata": {},
     "output_type": "execute_result"
    }
   ],
   "source": [
    "# Get Total Size:\n",
    "\n",
    "#m1 no of items in a * sise of each item\n",
    "a.size*a.itemsize"
   ]
  },
  {
   "cell_type": "code",
   "execution_count": 14,
   "id": "aa50160f",
   "metadata": {},
   "outputs": [
    {
     "data": {
      "text/plain": [
       "12"
      ]
     },
     "execution_count": 14,
     "metadata": {},
     "output_type": "execute_result"
    }
   ],
   "source": [
    "#m2\n",
    "a.nbytes"
   ]
  },
  {
   "cell_type": "code",
   "execution_count": 15,
   "id": "e0288f4c",
   "metadata": {},
   "outputs": [
    {
     "data": {
      "text/plain": [
       "8"
      ]
     },
     "execution_count": 15,
     "metadata": {},
     "output_type": "execute_result"
    }
   ],
   "source": [
    "# Floats itemsize=8 whileints item size is 4(by default)\n",
    "b.itemsize"
   ]
  },
  {
   "cell_type": "markdown",
   "id": "8cf58214",
   "metadata": {},
   "source": [
    "### Accessing/Changing specific elements,rows,columns"
   ]
  },
  {
   "cell_type": "code",
   "execution_count": 16,
   "id": "cca24460",
   "metadata": {},
   "outputs": [
    {
     "data": {
      "text/plain": [
       "array([[ 1,  2,  3,  4,  5,  6,  7],\n",
       "       [ 8,  9, 10, 11, 12, 13, 14]])"
      ]
     },
     "execution_count": 16,
     "metadata": {},
     "output_type": "execute_result"
    }
   ],
   "source": [
    "a = np.array([[1,2,3,4,5,6,7],[8,9,10,11,12,13,14]])\n",
    "a"
   ]
  },
  {
   "cell_type": "code",
   "execution_count": 17,
   "id": "80c7443f",
   "metadata": {},
   "outputs": [
    {
     "data": {
      "text/plain": [
       "(2, 7)"
      ]
     },
     "execution_count": 17,
     "metadata": {},
     "output_type": "execute_result"
    }
   ],
   "source": [
    "# Getting no of rows and columns\n",
    "a.shape"
   ]
  },
  {
   "cell_type": "code",
   "execution_count": 18,
   "id": "b275c353",
   "metadata": {},
   "outputs": [
    {
     "name": "stdout",
     "output_type": "stream",
     "text": [
      "13\n",
      "13\n"
     ]
    }
   ],
   "source": [
    "# Get a specific element [r,c] eg.13\n",
    "#m1:\n",
    "a[1,5]\n",
    "print(a[1,5])\n",
    "\n",
    "#m2:\n",
    "a[1,-2]\n",
    "print(a[1,-2])"
   ]
  },
  {
   "cell_type": "code",
   "execution_count": 19,
   "id": "46f9c827",
   "metadata": {},
   "outputs": [
    {
     "name": "stdout",
     "output_type": "stream",
     "text": [
      "[1 2 3 4 5 6 7]\n",
      "\n",
      "[ 8  9 10 11 12 13 14]\n"
     ]
    }
   ],
   "source": [
    "#WRONG APPROACH (giving incorrect answer)\n",
    "\n",
    "#1st row\n",
    "print(a[0])\n",
    "print()\n",
    "#2nd row\n",
    "print(a[1])"
   ]
  },
  {
   "cell_type": "markdown",
   "id": "24e3321c",
   "metadata": {},
   "source": [
    "## Focus on commas [ not : ]"
   ]
  },
  {
   "cell_type": "code",
   "execution_count": 20,
   "id": "062ff453",
   "metadata": {},
   "outputs": [
    {
     "name": "stdout",
     "output_type": "stream",
     "text": [
      "[1 2 3 4 5 6 7]\n",
      "Line-Break\n",
      "[ 8  9 10 11 12 13 14]\n"
     ]
    }
   ],
   "source": [
    "# Get a specific row \n",
    "# 1st Row\n",
    "a[0,:]\n",
    "print(a[0,:])\n",
    "\n",
    "print(\"Line-Break\")\n",
    "\n",
    "# 2nd Row\n",
    "a[1,:]\n",
    "print(a[1,:])"
   ]
  },
  {
   "cell_type": "code",
   "execution_count": 21,
   "id": "dec670ec",
   "metadata": {},
   "outputs": [
    {
     "name": "stdout",
     "output_type": "stream",
     "text": [
      "1st Col =  [1 8]\n",
      "\n",
      "2nd Col =  [2 9]\n",
      "\n",
      "3rd Col =  [ 3 10]\n",
      "\n",
      "4th Col =  [ 4 11]\n",
      "\n",
      "5th Col =  [ 5 12]\n",
      "\n",
      "6th Col =  [ 6 13]\n",
      "\n",
      "7th Col =  [ 7 14]\n"
     ]
    }
   ],
   "source": [
    "# Get a specific column\n",
    "# 1st Col\n",
    "a[:,0]\n",
    "print(\"1st Col = \",a[:,0])\n",
    "\n",
    "print()\n",
    "\n",
    "# 2nd Col\n",
    "a[:,1]\n",
    "print(\"2nd Col = \",a[:,1])\n",
    "\n",
    "print()\n",
    "\n",
    "# 3rd Col\n",
    "a[:,2]\n",
    "print(\"3rd Col = \",a[:,2])\n",
    "\n",
    "print()\n",
    "\n",
    "# 4th Col\n",
    "a[:,2]\n",
    "print(\"4th Col = \",a[:,3])\n",
    "\n",
    "print()\n",
    "\n",
    "# 5th Col\n",
    "a[:,2]\n",
    "print(\"5th Col = \",a[:,4])\n",
    "print()\n",
    "\n",
    "# 6th Col\n",
    "a[:,2]\n",
    "print(\"6th Col = \",a[:,5])\n",
    "\n",
    "print()\n",
    "\n",
    "# 7th Col\n",
    "a[:,2]\n",
    "print(\"7th Col = \",a[:,6])"
   ]
  },
  {
   "cell_type": "code",
   "execution_count": 22,
   "id": "a09fcc1c",
   "metadata": {},
   "outputs": [
    {
     "data": {
      "text/plain": [
       "array([2, 4, 6])"
      ]
     },
     "execution_count": 22,
     "metadata": {},
     "output_type": "execute_result"
    }
   ],
   "source": [
    "# Getting a little more fancy [startindex:endindex:stepsize]\n",
    "# eg To get every  other element between 2 and 6\n",
    "#m1- 0th row, column index 1 to 6(not 5 because upper limit not included) increment index by 2.\n",
    "a[0,1: 6:2]\n",
    "\n",
    "#m2-\n",
    "a[0,1: -1:2]"
   ]
  },
  {
   "cell_type": "code",
   "execution_count": 23,
   "id": "e5ac8136",
   "metadata": {},
   "outputs": [
    {
     "name": "stdout",
     "output_type": "stream",
     "text": [
      "[[ 1  2  3  4  5  6  7]\n",
      " [ 8  9 10 11 12 20 14]]\n"
     ]
    }
   ],
   "source": [
    "# Changing element at a particular loc to something else\n",
    "a[1,5]=20\n",
    "print(a)"
   ]
  },
  {
   "cell_type": "code",
   "execution_count": 24,
   "id": "6e400812",
   "metadata": {},
   "outputs": [
    {
     "name": "stdout",
     "output_type": "stream",
     "text": [
      "[[ 1  2  5  4  5  6  7]\n",
      " [ 8  9  5 11 12 20 14]]\n",
      "\n",
      "[[ 1  2  1  4  5  6  7]\n",
      " [ 8  9  2 11 12 20 14]]\n"
     ]
    }
   ],
   "source": [
    "# Changing entire column to something else\n",
    "a[:,2]=5\n",
    "print(a)\n",
    "\n",
    "print()\n",
    "\n",
    "a[:,2]= [1,2]\n",
    "print(a)"
   ]
  },
  {
   "cell_type": "markdown",
   "id": "a6fbce49",
   "metadata": {},
   "source": [
    "### 3D Example"
   ]
  },
  {
   "cell_type": "code",
   "execution_count": 25,
   "id": "637e7213",
   "metadata": {},
   "outputs": [
    {
     "data": {
      "text/plain": [
       "array([[[1, 2],\n",
       "        [3, 4]],\n",
       "\n",
       "       [[5, 6],\n",
       "        [7, 8]]])"
      ]
     },
     "execution_count": 25,
     "metadata": {},
     "output_type": "execute_result"
    }
   ],
   "source": [
    "b= np.array([[[1,2],[3,4]],[[5,6],[7,8]]])\n",
    "b"
   ]
  },
  {
   "cell_type": "code",
   "execution_count": 26,
   "id": "f15b22ac",
   "metadata": {},
   "outputs": [
    {
     "data": {
      "text/plain": [
       "3"
      ]
     },
     "execution_count": 26,
     "metadata": {},
     "output_type": "execute_result"
    }
   ],
   "source": [
    "b.ndim"
   ]
  },
  {
   "cell_type": "code",
   "execution_count": 27,
   "id": "f1522415",
   "metadata": {},
   "outputs": [
    {
     "data": {
      "text/plain": [
       "4"
      ]
     },
     "execution_count": 27,
     "metadata": {},
     "output_type": "execute_result"
    }
   ],
   "source": [
    "#Getting a specific element(work outside in)\n",
    "#eg(4)\n",
    "\n",
    "b[0,1,1]"
   ]
  },
  {
   "cell_type": "code",
   "execution_count": 28,
   "id": "a6d7ae4e",
   "metadata": {},
   "outputs": [
    {
     "data": {
      "text/plain": [
       "array([[3, 4],\n",
       "       [7, 8]])"
      ]
     },
     "execution_count": 28,
     "metadata": {},
     "output_type": "execute_result"
    }
   ],
   "source": [
    "#Trial question: 1\n",
    "b[:,1,:]"
   ]
  },
  {
   "cell_type": "code",
   "execution_count": 29,
   "id": "8dbd01fb",
   "metadata": {},
   "outputs": [
    {
     "data": {
      "text/plain": [
       "array([[1, 2],\n",
       "       [5, 6]])"
      ]
     },
     "execution_count": 29,
     "metadata": {},
     "output_type": "execute_result"
    }
   ],
   "source": [
    "#Trial question: 2\n",
    "b[:,0,:]"
   ]
  },
  {
   "cell_type": "markdown",
   "id": "1f49de41",
   "metadata": {},
   "source": [
    "### Doubts (use of : in numpy arrays)"
   ]
  },
  {
   "cell_type": "code",
   "execution_count": 30,
   "id": "31f37471",
   "metadata": {},
   "outputs": [
    {
     "data": {
      "text/plain": [
       "array([], shape=(0, 2, 2), dtype=int32)"
      ]
     },
     "execution_count": 30,
     "metadata": {},
     "output_type": "execute_result"
    }
   ],
   "source": [
    "#Trial question: 3\n",
    "b[:0:]"
   ]
  },
  {
   "cell_type": "code",
   "execution_count": 31,
   "id": "f1518055",
   "metadata": {},
   "outputs": [
    {
     "data": {
      "text/plain": [
       "array([[[1, 2],\n",
       "        [3, 4]]])"
      ]
     },
     "execution_count": 31,
     "metadata": {},
     "output_type": "execute_result"
    }
   ],
   "source": [
    "#Trial question: 4\n",
    "b[:1:]"
   ]
  },
  {
   "cell_type": "code",
   "execution_count": 32,
   "id": "8feb2aa0",
   "metadata": {},
   "outputs": [
    {
     "data": {
      "text/plain": [
       "array([1, 5])"
      ]
     },
     "execution_count": 32,
     "metadata": {},
     "output_type": "execute_result"
    }
   ],
   "source": [
    "#Trial question: 4\n",
    "b[:,0,0]"
   ]
  },
  {
   "cell_type": "code",
   "execution_count": 33,
   "id": "b2beb00f",
   "metadata": {},
   "outputs": [
    {
     "data": {
      "text/plain": [
       "array([[[1, 2],\n",
       "        [9, 9]],\n",
       "\n",
       "       [[5, 6],\n",
       "        [8, 8]]])"
      ]
     },
     "execution_count": 33,
     "metadata": {},
     "output_type": "execute_result"
    }
   ],
   "source": [
    "# Replace\n",
    "b[:,1,:] = [[9,9],[8,8]]\n",
    "b"
   ]
  },
  {
   "cell_type": "markdown",
   "id": "719a28c7",
   "metadata": {},
   "source": [
    "### Initializing Different Types of Arrays"
   ]
  },
  {
   "cell_type": "markdown",
   "id": "a9589e61",
   "metadata": {},
   "source": [
    "#### By default np.zeros and np.ones produce float64 elements  \n",
    "#### By default np.full produces int32 elements"
   ]
  },
  {
   "cell_type": "code",
   "execution_count": 34,
   "id": "3242390c",
   "metadata": {},
   "outputs": [
    {
     "data": {
      "text/plain": [
       "array([0., 0., 0., 0., 0.])"
      ]
     },
     "execution_count": 34,
     "metadata": {},
     "output_type": "execute_result"
    }
   ],
   "source": [
    "# All 0's matrix\n",
    "np.zeros(5)\n",
    "\n",
    "#np.zeros(5).dtype --->float64 as output "
   ]
  },
  {
   "cell_type": "code",
   "execution_count": 35,
   "id": "37108c97",
   "metadata": {},
   "outputs": [
    {
     "data": {
      "text/plain": [
       "array([[[0., 0., 0.],\n",
       "        [0., 0., 0.],\n",
       "        [0., 0., 0.]],\n",
       "\n",
       "       [[0., 0., 0.],\n",
       "        [0., 0., 0.],\n",
       "        [0., 0., 0.]]])"
      ]
     },
     "execution_count": 35,
     "metadata": {},
     "output_type": "execute_result"
    }
   ],
   "source": [
    "# All 0's matrix (3d)\n",
    "np.zeros((2,3,3))"
   ]
  },
  {
   "cell_type": "code",
   "execution_count": 36,
   "id": "b919ed5c",
   "metadata": {},
   "outputs": [
    {
     "data": {
      "text/plain": [
       "array([[[[0., 0.],\n",
       "         [0., 0.],\n",
       "         [0., 0.]],\n",
       "\n",
       "        [[0., 0.],\n",
       "         [0., 0.],\n",
       "         [0., 0.]],\n",
       "\n",
       "        [[0., 0.],\n",
       "         [0., 0.],\n",
       "         [0., 0.]]],\n",
       "\n",
       "\n",
       "       [[[0., 0.],\n",
       "         [0., 0.],\n",
       "         [0., 0.]],\n",
       "\n",
       "        [[0., 0.],\n",
       "         [0., 0.],\n",
       "         [0., 0.]],\n",
       "\n",
       "        [[0., 0.],\n",
       "         [0., 0.],\n",
       "         [0., 0.]]]])"
      ]
     },
     "execution_count": 36,
     "metadata": {},
     "output_type": "execute_result"
    }
   ],
   "source": [
    "# All 0's matrix (4d)\n",
    "np.zeros((2,3,3,2))"
   ]
  },
  {
   "cell_type": "code",
   "execution_count": 37,
   "id": "c5669899",
   "metadata": {},
   "outputs": [
    {
     "data": {
      "text/plain": [
       "array([[0., 0., 0.],\n",
       "       [0., 0., 0.]])"
      ]
     },
     "execution_count": 37,
     "metadata": {},
     "output_type": "execute_result"
    }
   ],
   "source": [
    "# All 0's matrix (2d)\n",
    "np.zeros((2,3))"
   ]
  },
  {
   "cell_type": "code",
   "execution_count": 38,
   "id": "3dddc49f",
   "metadata": {},
   "outputs": [
    {
     "data": {
      "text/plain": [
       "array([[[1., 1.],\n",
       "        [1., 1.]],\n",
       "\n",
       "       [[1., 1.],\n",
       "        [1., 1.]],\n",
       "\n",
       "       [[1., 1.],\n",
       "        [1., 1.]],\n",
       "\n",
       "       [[1., 1.],\n",
       "        [1., 1.]]])"
      ]
     },
     "execution_count": 38,
     "metadata": {},
     "output_type": "execute_result"
    }
   ],
   "source": [
    "# All 1's matrix (3d)\n",
    "np.ones((4,2,2))"
   ]
  },
  {
   "cell_type": "code",
   "execution_count": 39,
   "id": "d4bfe8d0",
   "metadata": {},
   "outputs": [
    {
     "data": {
      "text/plain": [
       "array([[[1, 1],\n",
       "        [1, 1]],\n",
       "\n",
       "       [[1, 1],\n",
       "        [1, 1]],\n",
       "\n",
       "       [[1, 1],\n",
       "        [1, 1]],\n",
       "\n",
       "       [[1, 1],\n",
       "        [1, 1]]])"
      ]
     },
     "execution_count": 39,
     "metadata": {},
     "output_type": "execute_result"
    }
   ],
   "source": [
    "# All 1's matrix (3d)\n",
    "np.ones((4,2,2),dtype='int32')"
   ]
  },
  {
   "cell_type": "code",
   "execution_count": 40,
   "id": "dc345a4b",
   "metadata": {},
   "outputs": [
    {
     "data": {
      "text/plain": [
       "array([[99., 99.],\n",
       "       [99., 99.]], dtype=float32)"
      ]
     },
     "execution_count": 40,
     "metadata": {},
     "output_type": "execute_result"
    }
   ],
   "source": [
    "# Any other number (np.full(shape),number)\n",
    "np.full((2,2),99,dtype='float32')"
   ]
  },
  {
   "cell_type": "code",
   "execution_count": 41,
   "id": "5a1d2db9",
   "metadata": {},
   "outputs": [
    {
     "data": {
      "text/plain": [
       "array([[4, 4, 4, 4, 4, 4, 4],\n",
       "       [4, 4, 4, 4, 4, 4, 4]])"
      ]
     },
     "execution_count": 41,
     "metadata": {},
     "output_type": "execute_result"
    }
   ],
   "source": [
    "# Any other number (full_like)\n",
    "# using the shape of Accessing/Changing specific elements,rows,columns\n",
    "\n",
    "#m1-\n",
    "np.full_like(a,4)\n",
    "\n",
    "#m2- (a array ke shape me saare elements 4)\n",
    "np.full(a.shape,4)"
   ]
  },
  {
   "cell_type": "code",
   "execution_count": 42,
   "id": "72ec0f5b",
   "metadata": {},
   "outputs": [
    {
     "data": {
      "text/plain": [
       "array([[0.98404265, 0.25236141],\n",
       "       [0.01522933, 0.5532355 ],\n",
       "       [0.30159811, 0.00124084],\n",
       "       [0.10425021, 0.90371624]])"
      ]
     },
     "execution_count": 42,
     "metadata": {},
     "output_type": "execute_result"
    }
   ],
   "source": [
    "# Random decimal numbers\n",
    "np.random.rand(4,2)"
   ]
  },
  {
   "cell_type": "code",
   "execution_count": 43,
   "id": "080c4075",
   "metadata": {},
   "outputs": [
    {
     "data": {
      "text/plain": [
       "array([[0.30785116, 0.40578741, 0.13159415, 0.03333422, 0.35218783,\n",
       "        0.08438136, 0.22028316],\n",
       "       [0.69827905, 0.84784787, 0.45874859, 0.53640634, 0.21952706,\n",
       "        0.3164846 , 0.46318591]])"
      ]
     },
     "execution_count": 43,
     "metadata": {},
     "output_type": "execute_result"
    }
   ],
   "source": [
    "# Random decimal numbers with sahape from another array\n",
    "np.random.random_sample(a.shape)"
   ]
  },
  {
   "cell_type": "code",
   "execution_count": 44,
   "id": "9b3875d9",
   "metadata": {},
   "outputs": [
    {
     "data": {
      "text/plain": [
       "array([[2, 4, 3],\n",
       "       [0, 5, 6],\n",
       "       [1, 6, 4]])"
      ]
     },
     "execution_count": 44,
     "metadata": {},
     "output_type": "execute_result"
    }
   ],
   "source": [
    "# Random Integer Values\n",
    "#(the upper limit for random values i.e all values are generated randomly and they are less than this upper limit, shape/size)\n",
    "np.random.randint(7,size=(3,3))"
   ]
  },
  {
   "cell_type": "markdown",
   "id": "9485bf1a",
   "metadata": {},
   "source": [
    "#### Upper limit is exclusive but lower limit is inclusive "
   ]
  },
  {
   "cell_type": "code",
   "execution_count": 45,
   "id": "fa78652e",
   "metadata": {},
   "outputs": [
    {
     "data": {
      "text/plain": [
       "array([[-3, -3, -6],\n",
       "       [-6, -2, -8],\n",
       "       [-1, -3, -9]])"
      ]
     },
     "execution_count": 45,
     "metadata": {},
     "output_type": "execute_result"
    }
   ],
   "source": [
    "# Random integers where lower and upper limit for randomness specified\n",
    "np.random.randint(-10,0,size=(3,3))"
   ]
  },
  {
   "cell_type": "code",
   "execution_count": 46,
   "id": "1e84fa4b",
   "metadata": {},
   "outputs": [
    {
     "data": {
      "text/plain": [
       "array([[1., 0., 0.],\n",
       "       [0., 1., 0.],\n",
       "       [0., 0., 1.]])"
      ]
     },
     "execution_count": 46,
     "metadata": {},
     "output_type": "execute_result"
    }
   ],
   "source": [
    "# Identity Matrix\n",
    "np.identity(3)"
   ]
  },
  {
   "cell_type": "code",
   "execution_count": 47,
   "id": "2bda8fa2",
   "metadata": {},
   "outputs": [
    {
     "data": {
      "text/plain": [
       "array([1, 1, 1, 2, 2, 2, 3, 3, 3])"
      ]
     },
     "execution_count": 47,
     "metadata": {},
     "output_type": "execute_result"
    }
   ],
   "source": [
    "# Repeat Array\n",
    "arr= np.array([1,2,3])\n",
    "r1=np.repeat(arr,3)\n",
    "r1"
   ]
  },
  {
   "cell_type": "code",
   "execution_count": 48,
   "id": "244da238",
   "metadata": {},
   "outputs": [
    {
     "data": {
      "text/plain": [
       "array([[1, 2, 3],\n",
       "       [1, 2, 3],\n",
       "       [1, 2, 3]])"
      ]
     },
     "execution_count": 48,
     "metadata": {},
     "output_type": "execute_result"
    }
   ],
   "source": [
    "# Repeat Array\n",
    "arr1= np.array([[1,2,3]])\n",
    "r1=np.repeat(arr1,3,axis=0)\n",
    "r1"
   ]
  },
  {
   "cell_type": "code",
   "execution_count": 49,
   "id": "b8844289",
   "metadata": {},
   "outputs": [
    {
     "data": {
      "text/plain": [
       "array([[1, 1, 1, 2, 2, 2, 3, 3, 3]])"
      ]
     },
     "execution_count": 49,
     "metadata": {},
     "output_type": "execute_result"
    }
   ],
   "source": [
    "# Repeat Array\n",
    "arr1= np.array([[1,2,3]])\n",
    "r1=np.repeat(arr1,3,axis=1)\n",
    "r1"
   ]
  },
  {
   "cell_type": "code",
   "execution_count": 50,
   "id": "858ca2ef",
   "metadata": {},
   "outputs": [
    {
     "name": "stdout",
     "output_type": "stream",
     "text": [
      "[[1 1 1 1 1]\n",
      " [1 1 1 1 1]\n",
      " [1 1 1 1 1]\n",
      " [1 1 1 1 1]\n",
      " [1 1 1 1 1]]\n",
      "\n",
      "[[1 1 1 1 1]\n",
      " [1 0 0 0 1]\n",
      " [1 1 1 1 1]\n",
      " [1 1 1 1 1]\n",
      " [1 1 1 1 1]]\n",
      "\n",
      "[[1 1 1 1 1]\n",
      " [1 0 0 0 1]\n",
      " [1 1 1 1 1]\n",
      " [1 0 0 0 1]\n",
      " [1 1 1 1 1]]\n",
      "\n",
      "[[1 1 1 1 1]\n",
      " [1 0 0 0 1]\n",
      " [1 0 1 0 1]\n",
      " [1 0 0 0 1]\n",
      " [1 1 1 1 1]]\n",
      "\n",
      "[[1 1 1 1 1]\n",
      " [1 0 0 0 1]\n",
      " [1 0 9 0 1]\n",
      " [1 0 0 0 1]\n",
      " [1 1 1 1 1]]\n",
      "\n"
     ]
    }
   ],
   "source": [
    "# My Approach\n",
    "array=np.ones([5,5],dtype='int32')\n",
    "print(array)\n",
    "print()\n",
    "\n",
    "array[1,1:4]=[0,0,0]\n",
    "print(array)\n",
    "print()\n",
    "\n",
    "array[3,1:4]=[0,0,0]\n",
    "print(array)\n",
    "print()\n",
    "\n",
    "array[2,1:4:2]=[0,0]\n",
    "print(array)\n",
    "print()\n",
    "\n",
    "array[2,2]=9\n",
    "print(array)\n",
    "print()"
   ]
  },
  {
   "cell_type": "code",
   "execution_count": 51,
   "id": "4ea9b583",
   "metadata": {},
   "outputs": [
    {
     "name": "stdout",
     "output_type": "stream",
     "text": [
      "[[1 1 1 1 1]\n",
      " [1 1 1 1 1]\n",
      " [1 1 1 1 1]\n",
      " [1 1 1 1 1]\n",
      " [1 1 1 1 1]]\n",
      "\n",
      "[[0 0 0]\n",
      " [0 0 0]\n",
      " [0 0 0]]\n",
      "\n",
      "[[0 0 0]\n",
      " [0 9 0]\n",
      " [0 0 0]]\n",
      "\n",
      "[[1 1 1 1 1]\n",
      " [1 0 0 0 1]\n",
      " [1 0 9 0 1]\n",
      " [1 0 0 0 1]\n",
      " [1 1 1 1 1]]\n"
     ]
    }
   ],
   "source": [
    "# Best Approach\n",
    "output=np.ones((5,5),dtype='int32')\n",
    "print(output)\n",
    "print()\n",
    "\n",
    "z=np.zeros((3,3),dtype='int32')\n",
    "print(z)\n",
    "print()\n",
    "\n",
    "z[1,1]=9\n",
    "print(z)\n",
    "print()\n",
    "\n",
    "output[1:4,1:4]=z\n",
    "print(output)"
   ]
  },
  {
   "cell_type": "markdown",
   "id": "393b6a38",
   "metadata": {},
   "source": [
    "#### Be careful when copying arrays!!!"
   ]
  },
  {
   "cell_type": "code",
   "execution_count": 52,
   "id": "6a4102d8",
   "metadata": {},
   "outputs": [
    {
     "name": "stdout",
     "output_type": "stream",
     "text": [
      "Before copy function\n",
      "[100   2   3]\n",
      "[100   2   3]\n",
      "\n",
      "After copy function\n",
      "[100   2   3]\n",
      "[1 2 3]\n"
     ]
    }
   ],
   "source": [
    "a=np.array([1,2,3])\n",
    "b=a\n",
    "b\n",
    "#Now though we are making changes to b(copy of a) they are getting reflected in a\n",
    "b[0]=100\n",
    "print(\"Before copy function\")\n",
    "print(b)\n",
    "print(a)\n",
    "print()\n",
    "\n",
    "#To prevent that we use the copu function\n",
    "a=np.array([1,2,3])\n",
    "c=a.copy()\n",
    "c\n",
    "c[0]=100\n",
    "print(\"After copy function\")\n",
    "print(c)\n",
    "print(a)"
   ]
  },
  {
   "cell_type": "markdown",
   "id": "9ab47447",
   "metadata": {},
   "source": [
    "### Mathematics"
   ]
  },
  {
   "cell_type": "code",
   "execution_count": 53,
   "id": "2bbd0133",
   "metadata": {},
   "outputs": [
    {
     "name": "stdout",
     "output_type": "stream",
     "text": [
      "a+2 [3 4 5 6]\n",
      "\n",
      "a-2 [-1  0  1  2]\n",
      "\n",
      "a*2 [2 4 6 8]\n",
      "\n",
      "a/2 [0.5 1.  1.5 2. ]\n",
      "\n"
     ]
    }
   ],
   "source": [
    "#Adds 2 to each element\n",
    "a=np.array([1,2,3,4])\n",
    "print('a+2',a+2)\n",
    "print()\n",
    "\n",
    "#Adds 2 to each element\n",
    "a=np.array([1,2,3,4])\n",
    "print('a-2',a-2)\n",
    "print()\n",
    "\n",
    "#Adds 2 to each element\n",
    "a=np.array([1,2,3,4])\n",
    "print('a*2',a*2)\n",
    "print()\n",
    "\n",
    "#Adds 2 to each element\n",
    "a=np.array([1,2,3,4])\n",
    "print('a/2',a/2)\n",
    "print()"
   ]
  },
  {
   "cell_type": "code",
   "execution_count": 54,
   "id": "6208c964",
   "metadata": {},
   "outputs": [
    {
     "data": {
      "text/plain": [
       "array([2, 2, 4, 4])"
      ]
     },
     "execution_count": 54,
     "metadata": {},
     "output_type": "execute_result"
    }
   ],
   "source": [
    "# Adding 2 numpy arrays\n",
    "a=np.array([1,2,3,4])\n",
    "b=np.array([1,0,1,0])\n",
    "a+b"
   ]
  },
  {
   "cell_type": "code",
   "execution_count": 55,
   "id": "61fc639f",
   "metadata": {},
   "outputs": [
    {
     "data": {
      "text/plain": [
       "dtype('int32')"
      ]
     },
     "execution_count": 55,
     "metadata": {},
     "output_type": "execute_result"
    }
   ],
   "source": [
    "a.dtype"
   ]
  },
  {
   "cell_type": "code",
   "execution_count": 56,
   "id": "61553db9",
   "metadata": {},
   "outputs": [
    {
     "data": {
      "text/plain": [
       "array([ 1,  4,  9, 16])"
      ]
     },
     "execution_count": 56,
     "metadata": {},
     "output_type": "execute_result"
    }
   ],
   "source": [
    "# a to the power 2 (a^2)\n",
    "a=np.array([1,2,3,4])\n",
    "a**2"
   ]
  },
  {
   "cell_type": "code",
   "execution_count": 57,
   "id": "8f5f750a",
   "metadata": {},
   "outputs": [
    {
     "name": "stdout",
     "output_type": "stream",
     "text": [
      "sin [ 0.84147098  0.90929743  0.14112001 -0.7568025 ]\n",
      "\n",
      "cos [ 0.54030231 -0.41614684 -0.9899925  -0.65364362]\n",
      "\n"
     ]
    }
   ],
   "source": [
    "# Computing sin of all values\n",
    "print('sin',np.sin(a))\n",
    "print()\n",
    "\n",
    "\n",
    "# Computing cos of all values\n",
    "print('cos',np.cos(a))\n",
    "print()\n"
   ]
  },
  {
   "cell_type": "markdown",
   "id": "38d06b02",
   "metadata": {},
   "source": [
    "### Linear Algebra"
   ]
  },
  {
   "cell_type": "code",
   "execution_count": 58,
   "id": "94f78f69",
   "metadata": {},
   "outputs": [
    {
     "name": "stdout",
     "output_type": "stream",
     "text": [
      "shape of a: (2, 3)\n",
      "[[1. 1. 1.]\n",
      " [1. 1. 1.]]\n",
      "\n",
      "shape of b: (3, 2)\n",
      "[[2 2]\n",
      " [2 2]\n",
      " [2 2]]\n",
      "\n"
     ]
    },
    {
     "data": {
      "text/plain": [
       "array([[6., 6.],\n",
       "       [6., 6.]])"
      ]
     },
     "execution_count": 58,
     "metadata": {},
     "output_type": "execute_result"
    }
   ],
   "source": [
    "a=np.ones((2,3))\n",
    "print('shape of a:',a.shape)\n",
    "print(a)\n",
    "print()\n",
    "b=np.full((3,2),2)\n",
    "print('shape of b:',b.shape)\n",
    "print(b)\n",
    "print()\n",
    "\n",
    "# Thus no of col in 1st matrix=3=no of col in 2nd matrix\n",
    "#Dimension of product Matrix=(2,2)\n",
    "np.matmul(a,b)"
   ]
  },
  {
   "cell_type": "code",
   "execution_count": 59,
   "id": "4c7a167e",
   "metadata": {},
   "outputs": [
    {
     "data": {
      "text/plain": [
       "1.0"
      ]
     },
     "execution_count": 59,
     "metadata": {},
     "output_type": "execute_result"
    }
   ],
   "source": [
    "# Finding the dtermintant matrix\n",
    "c=np.identity(3)\n",
    "np.linalg.det(c)"
   ]
  },
  {
   "cell_type": "markdown",
   "id": "9e83e58d",
   "metadata": {},
   "source": [
    "### Statistics"
   ]
  },
  {
   "cell_type": "code",
   "execution_count": 60,
   "id": "3ae29a64",
   "metadata": {},
   "outputs": [
    {
     "name": "stdout",
     "output_type": "stream",
     "text": [
      "min= 1\n",
      "max= 6\n",
      "minrow= [1 4]\n",
      "mincol= [1 2 3]\n",
      "maxrow= [3 6]\n",
      "maxcol= [4 5 6]\n",
      "sum= 21\n",
      "sum= [ 6 15]\n",
      "sum= [5 7 9]\n"
     ]
    }
   ],
   "source": [
    "stats=np.array([[1,2,3],[4,5,6]])\n",
    "stats\n",
    "\n",
    "#Finding min\n",
    "min=np.min(stats)\n",
    "print('min=',min)\n",
    "\n",
    "#Finding max\n",
    "max=np.max(stats)\n",
    "print('max=',max)\n",
    "\n",
    "#Finding min row-wise\n",
    "minrow=np.min(stats,axis=1)\n",
    "print('minrow=',minrow)\n",
    "\n",
    "#Finding min col-wise\n",
    "mincol=np.min(stats,axis=0)\n",
    "print('mincol=',mincol)\n",
    "\n",
    "#Finding max row-wise\n",
    "maxrow=np.max(stats,axis=1)\n",
    "print('maxrow=',maxrow)\n",
    "\n",
    "#Finding max col-wise\n",
    "maxcol=np.max(stats,axis=0)\n",
    "print('maxcol=',maxcol)\n",
    "\n",
    "#Sum\n",
    "sum=np.sum(stats)\n",
    "print('sum=',sum)\n",
    "\n",
    "#Sum row-wise\n",
    "sumrow=np.sum(stats,axis=1)\n",
    "print('sum=',sumrow)\n",
    "\n",
    "#Sum col-wise\n",
    "sumcol=np.sum(stats,axis=0)\n",
    "print('sum=',sumcol)"
   ]
  },
  {
   "cell_type": "markdown",
   "id": "85367dd6",
   "metadata": {},
   "source": [
    "### Reorganizing Arrays"
   ]
  },
  {
   "cell_type": "code",
   "execution_count": 61,
   "id": "435cfbd1",
   "metadata": {},
   "outputs": [
    {
     "name": "stdout",
     "output_type": "stream",
     "text": [
      "before= [[1 2 3 4]\n",
      " [5 6 7 8]]\n",
      "\n",
      "Before shape= (2, 4)\n",
      "\n",
      "after= [[1]\n",
      " [2]\n",
      " [3]\n",
      " [4]\n",
      " [5]\n",
      " [6]\n",
      " [7]\n",
      " [8]]\n",
      "\n",
      "after1= [[1 2]\n",
      " [3 4]\n",
      " [5 6]\n",
      " [7 8]]\n",
      "\n",
      "after2= [[[1 2]\n",
      "  [3 4]]\n",
      "\n",
      " [[5 6]\n",
      "  [7 8]]]\n",
      "\n"
     ]
    }
   ],
   "source": [
    "before=np.array([[1,2,3,4],[5,6,7,8]])\n",
    "print(\"before=\",before)\n",
    "print()\n",
    "\n",
    "before_shape=before.shape\n",
    "print('Before shape=',before_shape)\n",
    "print()\n",
    "\n",
    "#Reshaping matrix (2,4)--->(8,1)\n",
    "after=before.reshape((8,1))\n",
    "print(\"after=\",after)\n",
    "print()\n",
    "\n",
    "#Reshaping matrix (2,4)--->(4,2)\n",
    "before=np.array([[1,2,3,4],[5,6,7,8]])\n",
    "after1=before.reshape((4,2))\n",
    "print(\"after1=\",after1)\n",
    "print()\n",
    "\n",
    "#Reshaping matrix (2,4)--->(2,2,2)\n",
    "before=np.array([[1,2,3,4],[5,6,7,8]])\n",
    "after2=before.reshape((2,2,2))\n",
    "print(\"after2=\",after2)\n",
    "print()"
   ]
  },
  {
   "cell_type": "code",
   "execution_count": 62,
   "id": "3f3fd601",
   "metadata": {},
   "outputs": [
    {
     "name": "stdout",
     "output_type": "stream",
     "text": [
      "[[1 2 3 4]\n",
      " [5 6 7 8]\n",
      " [2 4 6 8]]\n",
      "\n",
      "[[1 2 3 4]\n",
      " [5 6 7 8]\n",
      " [2 4 6 8]\n",
      " [5 6 7 8]\n",
      " [2 4 6 8]\n",
      " [5 6 7 8]\n",
      " [2 4 6 8]]\n"
     ]
    }
   ],
   "source": [
    "# Vertically Stacking Vectors\n",
    "# As long as no of columns is same in both arrays to be stacked,their rows may differ..\n",
    "v1 = np.array([1,2,3,4])\n",
    "v2 = np.array([[5,6,7,8],[2,4,6,8]])\n",
    "\n",
    "#eg1\n",
    "print(np.vstack([v1,v2]))\n",
    "\n",
    "print()\n",
    "\n",
    "#eg2\n",
    "print(np.vstack([v1,v2,v2,v2]))"
   ]
  },
  {
   "cell_type": "code",
   "execution_count": 63,
   "id": "cfa3de03",
   "metadata": {},
   "outputs": [
    {
     "name": "stdout",
     "output_type": "stream",
     "text": [
      "[[1. 1. 1. 1.]\n",
      " [1. 1. 1. 1.]]\n",
      "\n",
      "[[0. 0.]\n",
      " [0. 0.]]\n",
      "\n"
     ]
    },
    {
     "data": {
      "text/plain": [
       "array([[1., 1., 1., 1., 0., 0.],\n",
       "       [1., 1., 1., 1., 0., 0.]])"
      ]
     },
     "execution_count": 63,
     "metadata": {},
     "output_type": "execute_result"
    }
   ],
   "source": [
    "# Horizontal Stack\n",
    "h1=np.ones((2,4))\n",
    "print(h1)\n",
    "print()\n",
    "\n",
    "h2=np.zeros((2,2))\n",
    "print(h2)\n",
    "print()\n",
    "\n",
    "np.hstack((h1,h2))"
   ]
  },
  {
   "cell_type": "markdown",
   "id": "f3e3caa3",
   "metadata": {},
   "source": [
    "### Miscellaneous"
   ]
  },
  {
   "cell_type": "markdown",
   "id": "cb36af2a",
   "metadata": {},
   "source": [
    "#### Load Data from File"
   ]
  },
  {
   "cell_type": "code",
   "execution_count": 64,
   "id": "25dce0b8",
   "metadata": {},
   "outputs": [
    {
     "name": "stdout",
     "output_type": "stream",
     "text": [
      "[[  1.  13.  21.  11. 196.  75.   4.   3.  34.   6.   7.   8.   0.   1.\n",
      "    2.   3.   4.   5.]\n",
      " [  3.  42.  12.  33. 766.  75.   4.  55.   6.   4.   3.   4.   5.   6.\n",
      "    7.   0.  11.  12.]\n",
      " [  1.  22.  33.  11. 999.  11.   2.   1.  78.   0.   1.   2.   9.   8.\n",
      "    7.   1.  76.  88.]]\n",
      "\n",
      "float64\n",
      "\n",
      "[[  1  13  21  11 196  75   4   3  34   6   7   8   0   1   2   3   4   5]\n",
      " [  3  42  12  33 766  75   4  55   6   4   3   4   5   6   7   0  11  12]\n",
      " [  1  22  33  11 999  11   2   1  78   0   1   2   9   8   7   1  76  88]]\n"
     ]
    }
   ],
   "source": [
    "#automatically casts it to float type\n",
    "filedata=np.genfromtxt('data.txt',delimiter=',')\n",
    "print(filedata)\n",
    "print()\n",
    "print(filedata.dtype)\n",
    "print()\n",
    "#now changing the data type to integer (float62--->int32).So it makes a copy and does not affect the original\n",
    "filedata_int=filedata.astype('int32')\n",
    "print(filedata_int)"
   ]
  },
  {
   "cell_type": "markdown",
   "id": "d0a11125",
   "metadata": {},
   "source": [
    "### Boolean Masking & Advanced Indexing"
   ]
  },
  {
   "cell_type": "code",
   "execution_count": 65,
   "id": "4bc599e6",
   "metadata": {},
   "outputs": [
    {
     "data": {
      "text/plain": [
       "array([[False, False, False, False,  True,  True, False, False, False,\n",
       "        False, False, False, False, False, False, False, False, False],\n",
       "       [False, False, False, False,  True,  True, False,  True, False,\n",
       "        False, False, False, False, False, False, False, False, False],\n",
       "       [False, False, False, False,  True, False, False, False,  True,\n",
       "        False, False, False, False, False, False, False,  True,  True]])"
      ]
     },
     "execution_count": 65,
     "metadata": {},
     "output_type": "execute_result"
    }
   ],
   "source": [
    "#Places in Filedata where condition is true will return as True and the rest will return as False\n",
    "filedata >50"
   ]
  },
  {
   "cell_type": "code",
   "execution_count": 66,
   "id": "ebf52b17",
   "metadata": {},
   "outputs": [
    {
     "data": {
      "text/plain": [
       "array([196,  75, 766,  75,  55, 999,  78,  76,  88])"
      ]
     },
     "execution_count": 66,
     "metadata": {},
     "output_type": "execute_result"
    }
   ],
   "source": [
    "#Getting the values where the condition is true\n",
    "filedata_int[filedata_int >50]"
   ]
  },
  {
   "cell_type": "code",
   "execution_count": 67,
   "id": "ba85aea1",
   "metadata": {},
   "outputs": [
    {
     "data": {
      "text/plain": [
       "array([2, 3, 9])"
      ]
     },
     "execution_count": 67,
     "metadata": {},
     "output_type": "execute_result"
    }
   ],
   "source": [
    "### You can index with a list in Numpy\n",
    "a=np.array([1,2,3,4,5,6,7,8,9])\n",
    "#To get the numbers 2 3 9\n",
    "a[[1,2,8]]"
   ]
  },
  {
   "cell_type": "code",
   "execution_count": 68,
   "id": "d117f26c",
   "metadata": {},
   "outputs": [
    {
     "data": {
      "text/plain": [
       "array([False, False, False, False,  True,  True, False,  True,  True,\n",
       "       False, False, False, False, False, False, False,  True,  True])"
      ]
     },
     "execution_count": 68,
     "metadata": {},
     "output_type": "execute_result"
    }
   ],
   "source": [
    "# Since axis=0, we will go column wise..there are a total of 18 columns so 18 values in result\n",
    "#In any function even if 1 value in the column satisfies the conditon the column gets true\n",
    "np.any(filedata >50,axis=0)\n",
    "#1st col no value>50\n",
    "#2nd col no value>50\n",
    "#3rd col no value>50\n",
    "#4th col no value>50\n",
    "#5th col True\n",
    "#6th col True\n",
    "#7th col no value>50\n",
    "#8th col True\n",
    "#9th col True\n",
    "#10th col no value>50\n",
    "#11th col no value>50\n",
    "#12th col no value>50\n",
    "#13th col no value>50\n",
    "#14th col no value>50\n",
    "#15th col no value>50\n",
    "#16th col no value>50\n",
    "#17th col True\n",
    "#18th col True"
   ]
  },
  {
   "cell_type": "code",
   "execution_count": 69,
   "id": "236fd862",
   "metadata": {},
   "outputs": [
    {
     "data": {
      "text/plain": [
       "array([False, False, False, False,  True, False, False, False, False,\n",
       "       False, False, False, False, False, False, False, False, False])"
      ]
     },
     "execution_count": 69,
     "metadata": {},
     "output_type": "execute_result"
    }
   ],
   "source": [
    "#In all function even all values in the column must satisfy the conditon then column gets true\n",
    "np.all(filedata >50,axis=0)\n",
    "#1st col not all values >50\n",
    "#2nd col not all values >50\n",
    "#3rd col not all values >50\n",
    "#4th col not all values >50\n",
    "#5th col True\n",
    "#6th col not all values >50\n",
    "#7th col not all values >50\n",
    "#8th col not all values >50\n",
    "#9th col not all values >50\n",
    "#10th col not all values >50\n",
    "#11th col not all values >50\n",
    "#12th col not all values >50\n",
    "#13th col not all values >50\n",
    "#14th col not all values >50\n",
    "#15th col not all values >50\n",
    "#16th col not all values >50\n",
    "#17th col not all values >50\n",
    "#18th col not all values >50"
   ]
  },
  {
   "cell_type": "code",
   "execution_count": 70,
   "id": "5509611f",
   "metadata": {},
   "outputs": [
    {
     "data": {
      "text/plain": [
       "array([ True,  True,  True])"
      ]
     },
     "execution_count": 70,
     "metadata": {},
     "output_type": "execute_result"
    }
   ],
   "source": [
    "# Since axis=1, we will go row wise..there are a total of 3 columns so 3 values in result\n",
    "#In any function even if 1 value in the row satisfies the conditon the row gets true\n",
    "np.any(filedata >50,axis=1)\n",
    "#1st Row True\n",
    "#2nd Row True\n",
    "#3rd Row True"
   ]
  },
  {
   "cell_type": "code",
   "execution_count": 71,
   "id": "8c3a60cc",
   "metadata": {},
   "outputs": [
    {
     "data": {
      "text/plain": [
       "array([False, False, False])"
      ]
     },
     "execution_count": 71,
     "metadata": {},
     "output_type": "execute_result"
    }
   ],
   "source": [
    "# Since axis=1, we will go row wise..there are a total of 3 columns so 3 values in result\n",
    "#In all function even all values in the row must satisfy the conditon then row gets true\n",
    "np.all(filedata >50,axis=1)\n",
    "#1st Row not all values >50\n",
    "#2nd Row not all values >50\n",
    "#3rd Row not all values >50"
   ]
  },
  {
   "cell_type": "code",
   "execution_count": 72,
   "id": "d6a8c6cc",
   "metadata": {},
   "outputs": [
    {
     "data": {
      "text/plain": [
       "array([[False, False, False, False, False,  True, False, False, False,\n",
       "        False, False, False, False, False, False, False, False, False],\n",
       "       [False, False, False, False, False,  True, False,  True, False,\n",
       "        False, False, False, False, False, False, False, False, False],\n",
       "       [False, False, False, False, False, False, False, False,  True,\n",
       "        False, False, False, False, False, False, False,  True,  True]])"
      ]
     },
     "execution_count": 72,
     "metadata": {},
     "output_type": "execute_result"
    }
   ],
   "source": [
    "# Conditions in Numpy very similar to Pandas\n",
    "((filedata > 50) & (filedata < 100))\n",
    "#Adding not symbol\n",
    "((filedata > 50) & (filedata < 100))"
   ]
  },
  {
   "cell_type": "code",
   "execution_count": 95,
   "id": "1907ca30",
   "metadata": {},
   "outputs": [
    {
     "name": "stdout",
     "output_type": "stream",
     "text": [
      "[[11 12]\n",
      " [16 17]]\n",
      "\n",
      "[ 2  8 14 20]\n",
      "\n",
      "[ 4  5 24 25 29 30]\n",
      "\n",
      "[[ 4  5]\n",
      " [24 25]\n",
      " [29 30]]\n"
     ]
    }
   ],
   "source": [
    "test=np.array([[1,2,3,4,5],[6,7,8,9,10],[11,12,13,14,15],[16,17,18,19,20],[21,22,23,24,25],[26,27,28,29,30]])\n",
    "test\n",
    "\n",
    "#To get values 11 12 16 17\n",
    "print(test[2:4,0:2])\n",
    "print()\n",
    "\n",
    "#To get values 2 8 14 20\n",
    "printer=test[[0,1,2,3],[1,2,3,4]]\n",
    "print(printer)\n",
    "print()\n",
    "\n",
    "#To get values 4 5 24 25 29 30\n",
    "#m1\n",
    "p=test[[0,0,4,4,5,5],[3,4,3,4,3,4]]\n",
    "print(p)\n",
    "print()\n",
    "\n",
    "#m2\n",
    "p1=test[[0,4,5],3:]\n",
    "print(p1)"
   ]
  },
  {
   "cell_type": "code",
   "execution_count": 74,
   "id": "dcc0e563",
   "metadata": {},
   "outputs": [
    {
     "data": {
      "text/plain": [
       "array([[24]])"
      ]
     },
     "execution_count": 74,
     "metadata": {},
     "output_type": "execute_result"
    }
   ],
   "source": [
    "test[4:-1,3:-1]"
   ]
  },
  {
   "cell_type": "markdown",
   "id": "b302c943",
   "metadata": {},
   "source": [
    "### References"
   ]
  },
  {
   "cell_type": "code",
   "execution_count": 75,
   "id": "7e90ffd2",
   "metadata": {},
   "outputs": [],
   "source": [
    "# For a lot more (https://docs.scipy.org/doc/numpy/reference/routines.math.html)\n",
    "# Reference docs (https://docs.scipy.org/doc/numpy/reference/routines.linalg.html)\n",
    "# Determinant\n",
    "# Trace\n",
    "# Singular Vector Decomposition\n",
    "# Eigenvalues\n",
    "# Matrix Norm\n",
    "# Inverse\n",
    "# Etc..."
   ]
  },
  {
   "cell_type": "code",
   "execution_count": null,
   "id": "35378f83",
   "metadata": {},
   "outputs": [],
   "source": []
  },
  {
   "cell_type": "code",
   "execution_count": null,
   "id": "eeb5b601",
   "metadata": {},
   "outputs": [],
   "source": []
  },
  {
   "cell_type": "code",
   "execution_count": null,
   "id": "665bcc24",
   "metadata": {},
   "outputs": [],
   "source": []
  },
  {
   "cell_type": "code",
   "execution_count": null,
   "id": "63f8018c",
   "metadata": {},
   "outputs": [],
   "source": []
  },
  {
   "cell_type": "code",
   "execution_count": null,
   "id": "03f5deaa",
   "metadata": {},
   "outputs": [],
   "source": []
  },
  {
   "cell_type": "code",
   "execution_count": null,
   "id": "d44ea1d4",
   "metadata": {},
   "outputs": [],
   "source": []
  },
  {
   "cell_type": "code",
   "execution_count": null,
   "id": "477be5b1",
   "metadata": {},
   "outputs": [],
   "source": []
  }
 ],
 "metadata": {
  "kernelspec": {
   "display_name": "Python 3 (ipykernel)",
   "language": "python",
   "name": "python3"
  },
  "language_info": {
   "codemirror_mode": {
    "name": "ipython",
    "version": 3
   },
   "file_extension": ".py",
   "mimetype": "text/x-python",
   "name": "python",
   "nbconvert_exporter": "python",
   "pygments_lexer": "ipython3",
   "version": "3.10.2"
  }
 },
 "nbformat": 4,
 "nbformat_minor": 5
}
